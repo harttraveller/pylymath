{
 "cells": [
  {
   "cell_type": "markdown",
   "metadata": {},
   "source": [
    "over how to use jupyter notebook. Have the person run some very simple code here, which is supported by code in the starter repository. The goal of this should be to get the person interested in the potential capacities of python."
   ]
  },
  {
   "cell_type": "markdown",
   "metadata": {},
   "source": []
  }
 ],
 "metadata": {
  "language_info": {
   "name": "python"
  },
  "orig_nbformat": 4
 },
 "nbformat": 4,
 "nbformat_minor": 2
}
